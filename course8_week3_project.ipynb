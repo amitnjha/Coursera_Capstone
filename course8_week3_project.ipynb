{
 "cells": [
  {
   "cell_type": "markdown",
   "metadata": {},
   "source": [
    "### Import packages"
   ]
  },
  {
   "cell_type": "code",
   "execution_count": 191,
   "metadata": {},
   "outputs": [],
   "source": [
    "#import the packages\n",
    "import pandas as pd\n",
    "import numpy as np\n",
    "from geopy.geocoders import Nominatim\n",
    "from bs4 import BeautifulSoup\n",
    "import requests"
   ]
  },
  {
   "cell_type": "markdown",
   "metadata": {},
   "source": [
    "### Define constants"
   ]
  },
  {
   "cell_type": "code",
   "execution_count": 192,
   "metadata": {},
   "outputs": [],
   "source": [
    "#define constants\n",
    "base_url = 'https://api.foursquare.com/v2'\n",
    "client_id = '4YYUY0FWACWQSMRZS1SWOQKU4J5T23CFDEHFDJUZGAJBJQL2'\n",
    "client_secret = 'J2MKJZVR4HMIPD2YXI1VPVNQAQN4012GJTJKGQOJ31YBK240'\n",
    "wikiUrl = 'https://en.wikipedia.org/wiki/List_of_postal_codes_of_Canada:_M'"
   ]
  },
  {
   "cell_type": "markdown",
   "metadata": {},
   "source": [
    "### Fetch Wikipedia article"
   ]
  },
  {
   "cell_type": "code",
   "execution_count": 193,
   "metadata": {},
   "outputs": [],
   "source": [
    "#Fetch Wikipedia article\n",
    "resp = requests.get(wikiUrl)\n",
    "html_text = resp.text"
   ]
  },
  {
   "cell_type": "markdown",
   "metadata": {},
   "source": [
    "### Parse and build data frame"
   ]
  },
  {
   "cell_type": "code",
   "execution_count": 194,
   "metadata": {},
   "outputs": [
    {
     "data": {
      "text/html": [
       "<div>\n",
       "<style scoped>\n",
       "    .dataframe tbody tr th:only-of-type {\n",
       "        vertical-align: middle;\n",
       "    }\n",
       "\n",
       "    .dataframe tbody tr th {\n",
       "        vertical-align: top;\n",
       "    }\n",
       "\n",
       "    .dataframe thead th {\n",
       "        text-align: right;\n",
       "    }\n",
       "</style>\n",
       "<table border=\"1\" class=\"dataframe\">\n",
       "  <thead>\n",
       "    <tr style=\"text-align: right;\">\n",
       "      <th></th>\n",
       "      <th>Postcode</th>\n",
       "      <th>Borough</th>\n",
       "      <th>Neighbourhood</th>\n",
       "    </tr>\n",
       "  </thead>\n",
       "  <tbody>\n",
       "    <tr>\n",
       "      <th>0</th>\n",
       "      <td>M1A</td>\n",
       "      <td>Not assigned</td>\n",
       "      <td>Not assigned</td>\n",
       "    </tr>\n",
       "    <tr>\n",
       "      <th>1</th>\n",
       "      <td>M2A</td>\n",
       "      <td>Not assigned</td>\n",
       "      <td>Not assigned</td>\n",
       "    </tr>\n",
       "    <tr>\n",
       "      <th>2</th>\n",
       "      <td>M3A</td>\n",
       "      <td>North York</td>\n",
       "      <td>Parkwoods</td>\n",
       "    </tr>\n",
       "    <tr>\n",
       "      <th>3</th>\n",
       "      <td>M4A</td>\n",
       "      <td>North York</td>\n",
       "      <td>Victoria Village</td>\n",
       "    </tr>\n",
       "    <tr>\n",
       "      <th>4</th>\n",
       "      <td>M5A</td>\n",
       "      <td>Downtown Toronto</td>\n",
       "      <td>Harbourfront</td>\n",
       "    </tr>\n",
       "  </tbody>\n",
       "</table>\n",
       "</div>"
      ],
      "text/plain": [
       "  Postcode           Borough     Neighbourhood\n",
       "0      M1A      Not assigned      Not assigned\n",
       "1      M2A      Not assigned      Not assigned\n",
       "2      M3A        North York         Parkwoods\n",
       "3      M4A        North York  Victoria Village\n",
       "4      M5A  Downtown Toronto      Harbourfront"
      ]
     },
     "execution_count": 194,
     "metadata": {},
     "output_type": "execute_result"
    }
   ],
   "source": [
    "#Parse and build data frame\n",
    "soup = BeautifulSoup(html_text, 'html.parser')\n",
    "postal_codeTable = soup.find('table')\n",
    "rows = postal_codeTable.find_all('tr')\n",
    "header = []\n",
    "for th in rows[0].find_all('th'):\n",
    "    header.append(th.text.replace('\\n',''))\n",
    "df_postalcode = pd.DataFrame(columns = header)\n",
    "rows = rows[1:]\n",
    "#print(rows)\n",
    "rownum  = 0\n",
    "for row in rows:\n",
    "    df_row = []\n",
    "    for td in row.find_all('td'):\n",
    "        df_row.append(td.text.replace('\\n',''))\n",
    "    #print(df_row)\n",
    "    df_postalcode.loc[rownum] = df_row\n",
    "    rownum = rownum + 1\n",
    "df_postalcode.head()\n"
   ]
  },
  {
   "cell_type": "markdown",
   "metadata": {},
   "source": [
    "### Data clean up per instruction -\n",
    "+  Remove those where borough is 'Not assigned'\n",
    "+  Group the neighbourhoods\n",
    "+  Replace Neighbourhood with Borough when Neighbourhood is not assigned"
   ]
  },
  {
   "cell_type": "code",
   "execution_count": 195,
   "metadata": {},
   "outputs": [],
   "source": [
    "#filter out those where borough is 'Not assigned'\n",
    "df_postalcode = df_postalcode[df_postalcode['Borough'] != 'Not assigned'].reset_index()\n",
    "df_postalcode.drop('index', axis=1,inplace=True)\n",
    "\n",
    "#Group the neighbourhoods\n",
    "df_postalcode = pd.DataFrame(df_postalcode.groupby(['Postcode','Borough'],axis=0)\n",
    "                             .apply(lambda x: ','.join(x['Neighbourhood'].values)).reset_index())\n",
    "\n",
    "df_postalcode.columns = ['Postcode','Borough','Neighbourhood']\n",
    "\n",
    "#Replace Neighbourhood with Borough when Neighbourhood is not assigned\n",
    "df_postalcode['Neighbourhood'].where(cond=df_postalcode['Neighbourhood'] != 'Not assigned', other=df_postalcode['Borough'] \n",
    "                    ,inplace = True\n",
    "                    ,axis=0)\n"
   ]
  },
  {
   "cell_type": "markdown",
   "metadata": {},
   "source": [
    "### Shape of the final DataFrame"
   ]
  },
  {
   "cell_type": "code",
   "execution_count": 196,
   "metadata": {},
   "outputs": [
    {
     "data": {
      "text/plain": [
       "(103, 3)"
      ]
     },
     "execution_count": 196,
     "metadata": {},
     "output_type": "execute_result"
    }
   ],
   "source": [
    "df_postalcode.shape"
   ]
  },
  {
   "cell_type": "code",
   "execution_count": null,
   "metadata": {},
   "outputs": [],
   "source": []
  }
 ],
 "metadata": {
  "kernelspec": {
   "display_name": "Python 3",
   "language": "python",
   "name": "python3"
  },
  "language_info": {
   "codemirror_mode": {
    "name": "ipython",
    "version": 3
   },
   "file_extension": ".py",
   "mimetype": "text/x-python",
   "name": "python",
   "nbconvert_exporter": "python",
   "pygments_lexer": "ipython3",
   "version": "3.6.8"
  }
 },
 "nbformat": 4,
 "nbformat_minor": 2
}
